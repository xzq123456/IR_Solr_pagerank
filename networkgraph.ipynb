{
 "cells": [
  {
   "cell_type": "code",
   "execution_count": 2,
   "metadata": {},
   "outputs": [
    {
     "name": "stdout",
     "output_type": "stream",
     "text": [
      "done\n"
     ]
    }
   ],
   "source": [
    "import networkx as nx\n",
    "G = nx.read_edgelist(\"edges_all.txt\", create_using=nx.DiGraph())\n",
    "fo = open(\"pageRankValues_check.txt\", \"w+\")\n",
    "pr = nx.pagerank(G, alpha=0.85, personalization=None, max_iter=30, tol=1e-06, nstart=None, weight='weight',dangling=None)\n",
    "\n",
    "f1=open(\"C:/Users/Monika/Desktop/CS572 - Info. Retrieval/My Assignments/hw4/crawl_data/NYD/NYD Map.csv\")\n",
    "lines=f1.read().splitlines()\n",
    "d={}\n",
    "for f in lines:\n",
    "    args=f.split(',')\n",
    "    d[args[0]]=args[0]\n",
    "\n",
    "for key in pr:\n",
    "    if key in d.keys():\n",
    "        fo.write(\"\" + d[key] + \"=\" + str(pr[key]) + \"\\n\")\n",
    "fo.close()\n",
    "print(\"done\");\n",
    "\n",
    "\n",
    "\n",
    "\n"
   ]
  },
  {
   "cell_type": "code",
   "execution_count": 5,
   "metadata": {},
   "outputs": [
    {
     "name": "stdout",
     "output_type": "stream",
     "text": [
      "done\n"
     ]
    }
   ],
   "source": [
    "from decimal import *\n",
    "getcontext().prec = 6\n",
    "import networkx as nx\n",
    "def createGraph():\n",
    "    dir= \"/home/devangar/Desktop/hw4/crawl_data/NYD/NYD/\"\n",
    "    G=nx.read_edgelist(\"edges_all.txt\",create_using=nx.DiGraph())    \n",
    "    pr = nx.pagerank(G,alpha=0.85, personalization=None, max_iter=30, tol=1e-06, nstart=None, weight='weight',dangling=None)\n",
    "    fh = open(\"external_pageRankFile\",\"w\")\n",
    "    fh.truncate()\n",
    "    \n",
    "    for k,v in pr.items():\n",
    "       \n",
    "        fh.write(dir+str(k)+\"=\"+str(v)+\"\\n\")\n",
    "    fh.close()\n",
    "    \n",
    "    \n",
    "if __name__ == '__main__':\n",
    "    createGraph()\n",
    "    print(\"done\");"
   ]
  },
  {
   "cell_type": "code",
   "execution_count": null,
   "metadata": {
    "collapsed": true
   },
   "outputs": [],
   "source": []
  }
 ],
 "metadata": {
  "kernelspec": {
   "display_name": "Python 3",
   "language": "python",
   "name": "python3"
  },
  "language_info": {
   "codemirror_mode": {
    "name": "ipython",
    "version": 3
   },
   "file_extension": ".py",
   "mimetype": "text/x-python",
   "name": "python",
   "nbconvert_exporter": "python",
   "pygments_lexer": "ipython3",
   "version": "3.6.1"
  }
 },
 "nbformat": 4,
 "nbformat_minor": 2
}
